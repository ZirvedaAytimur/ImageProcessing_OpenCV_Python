{
 "cells": [
  {
   "cell_type": "code",
   "execution_count": 18,
   "metadata": {},
   "outputs": [],
   "source": [
    "import cv2\n",
    "import numpy as np"
   ]
  },
  {
   "cell_type": "code",
   "execution_count": 19,
   "metadata": {},
   "outputs": [],
   "source": [
    "vid = cv2.VideoCapture(\"traffic.avi\")\n",
    "backsub = cv2.createBackgroundSubtractorMOG2()\n",
    "c = 0"
   ]
  },
  {
   "cell_type": "code",
   "execution_count": 20,
   "metadata": {},
   "outputs": [],
   "source": [
    "while True:\n",
    "    ret, frame = vid.read()\n",
    "    if ret is False:\n",
    "        break\n",
    "\n",
    "    fgmask = backsub.apply(frame)\n",
    "        \n",
    "    cv2.line(frame, (50, 0), (50, 300), (0, 255, 0), 2)\n",
    "    cv2.line(frame, (70, 0), (70, 300), (0, 255, 0), 2)\n",
    "        \n",
    "    contours,hierarchy = cv2.findContours(fgmask, cv2.RETR_TREE, cv2.CHAIN_APPROX_SIMPLE)\n",
    "    try:\n",
    "        hierarchy = hierarchy[0]\n",
    "    except:\n",
    "        hierarchy = []\n",
    "    \n",
    "    for contour, hier in zip(contours, hierarchy):\n",
    "        (x, y, w, h) = cv2.boundingRect(contour)\n",
    "        if w > 40 and h > 40:\n",
    "            cv2.rectangle(frame, (x, y), (x + w, y + h), (255, 0, 0), 3)\n",
    "            if x > 50 and x < 70:\n",
    "                c += 1\n",
    "    \n",
    "    cv2.putText(frame, \"car: \" + str(c), (90, 100), cv2.FONT_HERSHEY_SIMPLEX, 2, (0, 0, 255), 2, cv2.LINE_AA)\n",
    "    \n",
    "    cv2.imshow(\"Car Counter\", frame)\n",
    "    \n",
    "    if cv2.waitKey(20) & 0xFF == ord(\"q\"):\n",
    "        break\n",
    "\n",
    "vid.release()\n",
    "cv2.destroyAllWindows()"
   ]
  },
  {
   "cell_type": "code",
   "execution_count": null,
   "metadata": {},
   "outputs": [],
   "source": []
  }
 ],
 "metadata": {
  "kernelspec": {
   "display_name": "Python 3",
   "language": "python",
   "name": "python3"
  },
  "language_info": {
   "codemirror_mode": {
    "name": "ipython",
    "version": 3
   },
   "file_extension": ".py",
   "mimetype": "text/x-python",
   "name": "python",
   "nbconvert_exporter": "python",
   "pygments_lexer": "ipython3",
   "version": "3.8.3"
  }
 },
 "nbformat": 4,
 "nbformat_minor": 4
}
